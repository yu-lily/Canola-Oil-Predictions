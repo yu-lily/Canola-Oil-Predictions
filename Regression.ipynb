{
 "cells": [
  {
   "cell_type": "markdown",
   "metadata": {},
   "source": [
    "# Canola Oil Predictor"
   ]
  },
  {
   "cell_type": "code",
   "execution_count": 1,
   "metadata": {},
   "outputs": [],
   "source": [
    "import pandas as pd\n",
    "import re\n",
    "import numpy as np\n",
    "import matplotlib.pyplot as plt\n",
    "from sklearn.linear_model import LinearRegression"
   ]
  },
  {
   "cell_type": "markdown",
   "metadata": {},
   "source": [
    "## Import Data"
   ]
  },
  {
   "cell_type": "code",
   "execution_count": 2,
   "metadata": {},
   "outputs": [],
   "source": [
    "#reads in intended result csv, to fill in later, and finds regions we are trying to predict\n",
    "result = pd.read_csv(\"to_be_filled.csv\")\n",
    "regions = result['Region'].unique()"
   ]
  },
  {
   "cell_type": "code",
   "execution_count": 3,
   "metadata": {},
   "outputs": [],
   "source": [
    "#import data of target variables\n",
    "deliveries = pd.read_csv(\"data/1. Target Variables/Canada_Canola_Producer_Deliveries.csv\")\n",
    "prices = pd.read_csv(\"data/1. Target Variables/Canada_Canola_Producer_Prices.csv\")"
   ]
  },
  {
   "cell_type": "code",
   "execution_count": 4,
   "metadata": {},
   "outputs": [],
   "source": [
    "#import relevant weather data\n",
    "elNino = pd.read_csv(\"data/4. Spatio-Temporal & Weather Data/El_Niño_Southern_Oscillation_Index.csv\")"
   ]
  },
  {
   "cell_type": "markdown",
   "metadata": {},
   "source": [
    "Data given for rain, temp, soil moisture is split into separate CSV files for each year, so here we concatenate them."
   ]
  },
  {
   "cell_type": "code",
   "execution_count": 5,
   "metadata": {},
   "outputs": [],
   "source": [
    "#method for looping through to import and concatenate csvs\n",
    "def concatenate_csvs(path, years, start=2000):\n",
    "    \"\"\"\n",
    "    Input: Path containing many csvs with the same columns\n",
    "    Output: Single dataframe with all csvs concatenated\n",
    "    \n",
    "    path - str, path of csvs, with {} substituted for years\n",
    "    years - int, years the function should loop for\n",
    "    start - int, year the function should start from\n",
    "    \"\"\"\n",
    "    dfs = []\n",
    "    for i in range(years):\n",
    "        year = start + i\n",
    "        filepath = path.format(year)\n",
    "        dfs.append(pd.read_csv(filepath))\n",
    "    return pd.concat(dfs)"
   ]
  },
  {
   "cell_type": "code",
   "execution_count": 6,
   "metadata": {},
   "outputs": [],
   "source": [
    "#concatenate rainfall CSVs\n",
    "rain_path = \"data/4. Spatio-Temporal & Weather Data/Rainfall/canada_rainfall_{}.csv\"\n",
    "rain_years = 21\n",
    "rain = concatenate_csvs(rain_path, rain_years)"
   ]
  },
  {
   "cell_type": "code",
   "execution_count": 7,
   "metadata": {},
   "outputs": [],
   "source": [
    "#concatenate soil moisture CSVs\n",
    "sm_path = \"data/4. Spatio-Temporal & Weather Data/Soil Moisture/canada_soil_moisture{}.csv\"\n",
    "sm_years = 11\n",
    "sm_start = 2010\n",
    "sm = concatenate_csvs(sm_path, sm_years, start = sm_start)"
   ]
  },
  {
   "cell_type": "code",
   "execution_count": 8,
   "metadata": {},
   "outputs": [],
   "source": [
    "#concatenate temperature moisture CSVs\n",
    "temp_path = \"data/4. Spatio-Temporal & Weather Data/Temperature/canada_temp_{}.csv\"\n",
    "temp_years = 21\n",
    "temp = concatenate_csvs(temp_path, temp_years)"
   ]
  },
  {
   "cell_type": "markdown",
   "metadata": {},
   "source": [
    "## Transform Data Into Workable Format"
   ]
  },
  {
   "cell_type": "code",
   "execution_count": 9,
   "metadata": {},
   "outputs": [],
   "source": [
    "#format dates as YYYY-MM-DD\n",
    "if 'start' not in rain.keys():\n",
    "    rain.insert(2, 'start', pd.to_datetime(rain['start_date']))\n",
    "    rain.insert(3, 'end', pd.to_datetime(rain['end_date']))\n",
    "if 'start' not in sm.keys():\n",
    "    sm.insert(2, 'start', pd.to_datetime(sm['start_date']))\n",
    "    sm.insert(3, 'end', pd.to_datetime(sm['end_date']))\n",
    "if 'start' not in temp.keys():\n",
    "    temp.insert(2, 'start', pd.to_datetime(temp['start_date']))\n",
    "    temp.insert(3, 'end', pd.to_datetime(temp['end_date']))\n",
    "if 'start' not in elNino.keys():\n",
    "    elNino.insert(2, 'start', pd.to_datetime(elNino['Start Date']))\n",
    "    elNino.insert(3, 'end', pd.to_datetime(elNino['End Date']))"
   ]
  },
  {
   "cell_type": "code",
   "execution_count": 10,
   "metadata": {},
   "outputs": [],
   "source": [
    "#format to keep only relevant columns\n",
    "rain_f = rain[['start','end', 'value', 'region_id', 'region_name', 'province_name', 'year']]\n",
    "sm_f = sm[['start','end', 'value', 'region_id', 'region_name', 'province_name', 'year']]\n",
    "temp_f = temp[['start','end', 'value', 'region_id', 'region_name', 'province_name', 'year']]\n",
    "elNino_f = elNino[['start','end', 'Value']].rename(str.lower, axis='columns').set_index('end')"
   ]
  },
  {
   "cell_type": "code",
   "execution_count": 11,
   "metadata": {},
   "outputs": [],
   "source": [
    "#format to keep only relevant columns\n",
    "deliveries_f = deliveries[['Region', 'Start Date', 'End Date', 'Value']].rename(str.lower, axis='columns')\n",
    "prices_f = prices[['Region', 'Start Date', 'End Date', 'Value']].rename(str.lower, axis='columns')"
   ]
  },
  {
   "cell_type": "markdown",
   "metadata": {},
   "source": [
    "Splits each dataframe into lists of dataframes. Index in lists correspond to list of regions identified earlier."
   ]
  },
  {
   "cell_type": "code",
   "execution_count": 12,
   "metadata": {},
   "outputs": [],
   "source": [
    "prices_by_region = []\n",
    "deliveries_by_region = []\n",
    "rain_by_region = []\n",
    "sm_by_region = []\n",
    "temp_by_region = []\n",
    "for region in regions:\n",
    "    prices_by_region.append(prices_f[prices_f.region == region].set_index('end date'))\n",
    "    deliveries_by_region.append(deliveries_f[deliveries_f.region == region].set_index('end date'))\n",
    "    rain_by_region.append(rain_f[rain_f.province_name == region].groupby(pd.Grouper(freq = 'M', key = 'end')).mean())\n",
    "    sm_by_region.append(sm_f[sm_f.province_name == region].groupby(pd.Grouper(freq = 'M', key = 'end')).mean())\n",
    "    temp_by_region.append(temp_f[temp_f.province_name == region].groupby(pd.Grouper(freq = 'M', key = 'end')).mean())"
   ]
  },
  {
   "cell_type": "markdown",
   "metadata": {},
   "source": [
    "Combines dataframes so that we have one large dataframe with all variables for each region."
   ]
  },
  {
   "cell_type": "code",
   "execution_count": 13,
   "metadata": {},
   "outputs": [],
   "source": [
    "#left joins all dataframes onto deliveries_by_region\n",
    "all_vars = []\n",
    "\n",
    "for i in range(len(regions)):\n",
    "    #rain_by_region[i] = rain_by_region[i].groupby(pd.Grouper(freq = 'M', key = 'end')).mean()\n",
    "    with_rain = deliveries_by_region[i].join(rain_by_region[i].tz_localize(None), rsuffix= '_rain')\n",
    "    with_sm = with_rain.join(sm_by_region[i].tz_localize(None), rsuffix='_sm')\n",
    "    with_temp = with_sm.join(temp_by_region[i].tz_localize(None), rsuffix='_temp')\n",
    "    with_elnino = with_temp.join(elNino_f, rsuffix='_elnino')\n",
    "    with_prices = with_elnino.join(prices_by_region[i], rsuffix='_price')\n",
    "    all_vars.append(with_prices)\n",
    "    #print(len(deliveries_by_region[i]))\n",
    "    #print(len(rain_by_region[i]))"
   ]
  },
  {
   "cell_type": "code",
   "execution_count": 14,
   "metadata": {},
   "outputs": [],
   "source": [
    "#split into list divided by region of sublists of dataframes divided by month\n",
    "#result is in format of all_vars_by_month[Region][Month, indexed from 0]\n",
    "all_vars_by_month = []\n",
    "months = range(1, 13)\n",
    "for i in range(len(regions)):\n",
    "    all_vars_by_month.append([])\n",
    "    for month in months:\n",
    "        all_vars_by_month[i].append(all_vars[i].loc[lambda x: x.index.month == month])"
   ]
  },
  {
   "cell_type": "markdown",
   "metadata": {},
   "source": []
  },
  {
   "cell_type": "code",
   "execution_count": 15,
   "metadata": {},
   "outputs": [
    {
     "data": {
      "text/plain": [
       "<matplotlib.legend.Legend at 0x2808015c080>"
      ]
     },
     "execution_count": 15,
     "metadata": {},
     "output_type": "execute_result"
    },
    {
     "data": {
      "image/png": "[encoded data removed]",
      "text/plain": [
       "<Figure size 432x288 with 1 Axes>"
      ]
     },
     "metadata": {
      "needs_background": "light"
     },
     "output_type": "display_data"
    }
   ],
   "source": [
    "import calendar\n",
    "\n",
    "rain_price_plot = plt.figure()\n",
    "for i in range(12):\n",
    "    plt.scatter(all_vars_by_month[0][i]['value_rain'], all_vars_by_month[0][i]['value_price'], label = calendar.month_abbr[i+1])\n",
    "\n",
    "plt.xlabel('Rainfall', fontsize = 18)\n",
    "plt.ylabel('Price', fontsize = 18)\n",
    "plt.legend(bbox_to_anchor=(1, 1))"
   ]
  },
  {
   "cell_type": "code",
   "execution_count": 2,
   "metadata": {},
   "outputs": [],
   "source": [
    "%magic"
   ]
  },
  {
   "cell_type": "code",
   "execution_count": 27,
   "metadata": {},
   "outputs": [
    {
     "data": {
      "text/html": [
       "<div>\n",
       "<style scoped>\n",
       "    .dataframe tbody tr th:only-of-type {\n",
       "        vertical-align: middle;\n",
       "    }\n",
       "\n",
       "    .dataframe tbody tr th {\n",
       "        vertical-align: top;\n",
       "    }\n",
       "\n",
       "    .dataframe thead th {\n",
       "        text-align: right;\n",
       "    }\n",
       "</style>\n",
       "<table border=\"1\" class=\"dataframe\">\n",
       "  <thead>\n",
       "    <tr style=\"text-align: right;\">\n",
       "      <th></th>\n",
       "      <th>region</th>\n",
       "      <th>start date</th>\n",
       "      <th>value</th>\n",
       "      <th>value_rain</th>\n",
       "      <th>region_id</th>\n",
       "      <th>year</th>\n",
       "      <th>value_sm</th>\n",
       "      <th>region_id_sm</th>\n",
       "      <th>year_sm</th>\n",
       "      <th>value_temp</th>\n",
       "      <th>region_id_temp</th>\n",
       "      <th>year_temp</th>\n",
       "      <th>start</th>\n",
       "      <th>value_elnino</th>\n",
       "      <th>region_price</th>\n",
       "      <th>start date_price</th>\n",
       "      <th>value_price</th>\n",
       "    </tr>\n",
       "    <tr>\n",
       "      <th>end date</th>\n",
       "      <th></th>\n",
       "      <th></th>\n",
       "      <th></th>\n",
       "      <th></th>\n",
       "      <th></th>\n",
       "      <th></th>\n",
       "      <th></th>\n",
       "      <th></th>\n",
       "      <th></th>\n",
       "      <th></th>\n",
       "      <th></th>\n",
       "      <th></th>\n",
       "      <th></th>\n",
       "      <th></th>\n",
       "      <th></th>\n",
       "      <th></th>\n",
       "      <th></th>\n",
       "    </tr>\n",
       "  </thead>\n",
       "  <tbody>\n",
       "    <tr>\n",
       "      <th>1966-08-31</th>\n",
       "      <td>Alberta</td>\n",
       "      <td>1966-08-01</td>\n",
       "      <td>1932</td>\n",
       "      <td>NaN</td>\n",
       "      <td>NaN</td>\n",
       "      <td>NaN</td>\n",
       "      <td>NaN</td>\n",
       "      <td>NaN</td>\n",
       "      <td>NaN</td>\n",
       "      <td>NaN</td>\n",
       "      <td>NaN</td>\n",
       "      <td>NaN</td>\n",
       "      <td>NaT</td>\n",
       "      <td>NaN</td>\n",
       "      <td>NaN</td>\n",
       "      <td>NaN</td>\n",
       "      <td>NaN</td>\n",
       "    </tr>\n",
       "    <tr>\n",
       "      <th>1966-09-30</th>\n",
       "      <td>Alberta</td>\n",
       "      <td>1966-09-01</td>\n",
       "      <td>24333</td>\n",
       "      <td>NaN</td>\n",
       "      <td>NaN</td>\n",
       "      <td>NaN</td>\n",
       "      <td>NaN</td>\n",
       "      <td>NaN</td>\n",
       "      <td>NaN</td>\n",
       "      <td>NaN</td>\n",
       "      <td>NaN</td>\n",
       "      <td>NaN</td>\n",
       "      <td>NaT</td>\n",
       "      <td>NaN</td>\n",
       "      <td>NaN</td>\n",
       "      <td>NaN</td>\n",
       "      <td>NaN</td>\n",
       "    </tr>\n",
       "    <tr>\n",
       "      <th>1966-10-31</th>\n",
       "      <td>Alberta</td>\n",
       "      <td>1966-10-01</td>\n",
       "      <td>31098</td>\n",
       "      <td>NaN</td>\n",
       "      <td>NaN</td>\n",
       "      <td>NaN</td>\n",
       "      <td>NaN</td>\n",
       "      <td>NaN</td>\n",
       "      <td>NaN</td>\n",
       "      <td>NaN</td>\n",
       "      <td>NaN</td>\n",
       "      <td>NaN</td>\n",
       "      <td>NaT</td>\n",
       "      <td>NaN</td>\n",
       "      <td>NaN</td>\n",
       "      <td>NaN</td>\n",
       "      <td>NaN</td>\n",
       "    </tr>\n",
       "    <tr>\n",
       "      <th>1966-11-30</th>\n",
       "      <td>Alberta</td>\n",
       "      <td>1966-11-01</td>\n",
       "      <td>15676</td>\n",
       "      <td>NaN</td>\n",
       "      <td>NaN</td>\n",
       "      <td>NaN</td>\n",
       "      <td>NaN</td>\n",
       "      <td>NaN</td>\n",
       "      <td>NaN</td>\n",
       "      <td>NaN</td>\n",
       "      <td>NaN</td>\n",
       "      <td>NaN</td>\n",
       "      <td>NaT</td>\n",
       "      <td>NaN</td>\n",
       "      <td>NaN</td>\n",
       "      <td>NaN</td>\n",
       "      <td>NaN</td>\n",
       "    </tr>\n",
       "    <tr>\n",
       "      <th>1966-12-31</th>\n",
       "      <td>Alberta</td>\n",
       "      <td>1966-12-01</td>\n",
       "      <td>20112</td>\n",
       "      <td>NaN</td>\n",
       "      <td>NaN</td>\n",
       "      <td>NaN</td>\n",
       "      <td>NaN</td>\n",
       "      <td>NaN</td>\n",
       "      <td>NaN</td>\n",
       "      <td>NaN</td>\n",
       "      <td>NaN</td>\n",
       "      <td>NaN</td>\n",
       "      <td>NaT</td>\n",
       "      <td>NaN</td>\n",
       "      <td>NaN</td>\n",
       "      <td>NaN</td>\n",
       "      <td>NaN</td>\n",
       "    </tr>\n",
       "    <tr>\n",
       "      <th>...</th>\n",
       "      <td>...</td>\n",
       "      <td>...</td>\n",
       "      <td>...</td>\n",
       "      <td>...</td>\n",
       "      <td>...</td>\n",
       "      <td>...</td>\n",
       "      <td>...</td>\n",
       "      <td>...</td>\n",
       "      <td>...</td>\n",
       "      <td>...</td>\n",
       "      <td>...</td>\n",
       "      <td>...</td>\n",
       "      <td>...</td>\n",
       "      <td>...</td>\n",
       "      <td>...</td>\n",
       "      <td>...</td>\n",
       "      <td>...</td>\n",
       "    </tr>\n",
       "    <tr>\n",
       "      <th>2018-08-31</th>\n",
       "      <td>Alberta</td>\n",
       "      <td>2018-08-01</td>\n",
       "      <td>174771</td>\n",
       "      <td>1.805986</td>\n",
       "      <td>111101.0</td>\n",
       "      <td>2018.0</td>\n",
       "      <td>0.104167</td>\n",
       "      <td>111101.000000</td>\n",
       "      <td>2018.0</td>\n",
       "      <td>24.013917</td>\n",
       "      <td>111100.863469</td>\n",
       "      <td>2018.0</td>\n",
       "      <td>2018-08-01</td>\n",
       "      <td>0.36</td>\n",
       "      <td>Alberta</td>\n",
       "      <td>2018-08-01</td>\n",
       "      <td>508.03</td>\n",
       "    </tr>\n",
       "    <tr>\n",
       "      <th>2018-09-30</th>\n",
       "      <td>Alberta</td>\n",
       "      <td>2018-09-01</td>\n",
       "      <td>182911</td>\n",
       "      <td>0.731699</td>\n",
       "      <td>111101.0</td>\n",
       "      <td>2018.0</td>\n",
       "      <td>0.126619</td>\n",
       "      <td>111101.010733</td>\n",
       "      <td>2018.0</td>\n",
       "      <td>11.418756</td>\n",
       "      <td>111100.890496</td>\n",
       "      <td>2018.0</td>\n",
       "      <td>2018-09-01</td>\n",
       "      <td>0.52</td>\n",
       "      <td>Alberta</td>\n",
       "      <td>2018-09-01</td>\n",
       "      <td>484.82</td>\n",
       "    </tr>\n",
       "    <tr>\n",
       "      <th>2018-10-31</th>\n",
       "      <td>Alberta</td>\n",
       "      <td>2018-10-01</td>\n",
       "      <td>707299</td>\n",
       "      <td>0.384962</td>\n",
       "      <td>111101.0</td>\n",
       "      <td>2018.0</td>\n",
       "      <td>0.147203</td>\n",
       "      <td>111101.022059</td>\n",
       "      <td>2018.0</td>\n",
       "      <td>6.953761</td>\n",
       "      <td>111100.957952</td>\n",
       "      <td>2018.0</td>\n",
       "      <td>2018-10-01</td>\n",
       "      <td>0.41</td>\n",
       "      <td>Alberta</td>\n",
       "      <td>2018-10-01</td>\n",
       "      <td>477.07</td>\n",
       "    </tr>\n",
       "    <tr>\n",
       "      <th>2018-11-30</th>\n",
       "      <td>Alberta</td>\n",
       "      <td>2018-11-01</td>\n",
       "      <td>557669</td>\n",
       "      <td>1.182317</td>\n",
       "      <td>111101.0</td>\n",
       "      <td>2018.0</td>\n",
       "      <td>0.118859</td>\n",
       "      <td>111102.664430</td>\n",
       "      <td>2018.0</td>\n",
       "      <td>-5.808988</td>\n",
       "      <td>111101.016364</td>\n",
       "      <td>2018.0</td>\n",
       "      <td>2018-11-01</td>\n",
       "      <td>0.26</td>\n",
       "      <td>Alberta</td>\n",
       "      <td>2018-11-01</td>\n",
       "      <td>472.02</td>\n",
       "    </tr>\n",
       "    <tr>\n",
       "      <th>2018-12-31</th>\n",
       "      <td>Alberta</td>\n",
       "      <td>2018-12-01</td>\n",
       "      <td>375388</td>\n",
       "      <td>0.417689</td>\n",
       "      <td>111101.0</td>\n",
       "      <td>2018.0</td>\n",
       "      <td>0.055995</td>\n",
       "      <td>111101.087963</td>\n",
       "      <td>2018.0</td>\n",
       "      <td>-10.406051</td>\n",
       "      <td>111101.000000</td>\n",
       "      <td>2018.0</td>\n",
       "      <td>2018-12-01</td>\n",
       "      <td>0.13</td>\n",
       "      <td>Alberta</td>\n",
       "      <td>2018-12-01</td>\n",
       "      <td>473.39</td>\n",
       "    </tr>\n",
       "  </tbody>\n",
       "</table>\n",
       "<p>629 rows × 17 columns</p>\n",
       "</div>"
      ],
      "text/plain": [
       "             region  start date   value  value_rain  region_id    year  \\\n",
       "end date                                                                 \n",
       "1966-08-31  Alberta  1966-08-01    1932         NaN        NaN     NaN   \n",
       "1966-09-30  Alberta  1966-09-01   24333         NaN        NaN     NaN   \n",
       "1966-10-31  Alberta  1966-10-01   31098         NaN        NaN     NaN   \n",
       "1966-11-30  Alberta  1966-11-01   15676         NaN        NaN     NaN   \n",
       "1966-12-31  Alberta  1966-12-01   20112         NaN        NaN     NaN   \n",
       "...             ...         ...     ...         ...        ...     ...   \n",
       "2018-08-31  Alberta  2018-08-01  174771    1.805986   111101.0  2018.0   \n",
       "2018-09-30  Alberta  2018-09-01  182911    0.731699   111101.0  2018.0   \n",
       "2018-10-31  Alberta  2018-10-01  707299    0.384962   111101.0  2018.0   \n",
       "2018-11-30  Alberta  2018-11-01  557669    1.182317   111101.0  2018.0   \n",
       "2018-12-31  Alberta  2018-12-01  375388    0.417689   111101.0  2018.0   \n",
       "\n",
       "            value_sm   region_id_sm  year_sm  value_temp  region_id_temp  \\\n",
       "end date                                                                   \n",
       "1966-08-31       NaN            NaN      NaN         NaN             NaN   \n",
       "1966-09-30       NaN            NaN      NaN         NaN             NaN   \n",
       "1966-10-31       NaN            NaN      NaN         NaN             NaN   \n",
       "1966-11-30       NaN            NaN      NaN         NaN             NaN   \n",
       "1966-12-31       NaN            NaN      NaN         NaN             NaN   \n",
       "...              ...            ...      ...         ...             ...   \n",
       "2018-08-31  0.104167  111101.000000   2018.0   24.013917   111100.863469   \n",
       "2018-09-30  0.126619  111101.010733   2018.0   11.418756   111100.890496   \n",
       "2018-10-31  0.147203  111101.022059   2018.0    6.953761   111100.957952   \n",
       "2018-11-30  0.118859  111102.664430   2018.0   -5.808988   111101.016364   \n",
       "2018-12-31  0.055995  111101.087963   2018.0  -10.406051   111101.000000   \n",
       "\n",
       "            year_temp      start  value_elnino region_price start date_price  \\\n",
       "end date                                                                       \n",
       "1966-08-31        NaN        NaT           NaN          NaN              NaN   \n",
       "1966-09-30        NaN        NaT           NaN          NaN              NaN   \n",
       "1966-10-31        NaN        NaT           NaN          NaN              NaN   \n",
       "1966-11-30        NaN        NaT           NaN          NaN              NaN   \n",
       "1966-12-31        NaN        NaT           NaN          NaN              NaN   \n",
       "...               ...        ...           ...          ...              ...   \n",
       "2018-08-31     2018.0 2018-08-01          0.36      Alberta       2018-08-01   \n",
       "2018-09-30     2018.0 2018-09-01          0.52      Alberta       2018-09-01   \n",
       "2018-10-31     2018.0 2018-10-01          0.41      Alberta       2018-10-01   \n",
       "2018-11-30     2018.0 2018-11-01          0.26      Alberta       2018-11-01   \n",
       "2018-12-31     2018.0 2018-12-01          0.13      Alberta       2018-12-01   \n",
       "\n",
       "            value_price  \n",
       "end date                 \n",
       "1966-08-31          NaN  \n",
       "1966-09-30          NaN  \n",
       "1966-10-31          NaN  \n",
       "1966-11-30          NaN  \n",
       "1966-12-31          NaN  \n",
       "...                 ...  \n",
       "2018-08-31       508.03  \n",
       "2018-09-30       484.82  \n",
       "2018-10-31       477.07  \n",
       "2018-11-30       472.02  \n",
       "2018-12-31       473.39  \n",
       "\n",
       "[629 rows x 17 columns]"
      ]
     },
     "execution_count": 27,
     "metadata": {},
     "output_type": "execute_result"
    }
   ],
   "source": [
    "all_vars[0]\n",
    "\n",
    "rain_plot = plt.figure()"
   ]
  },
  {
   "cell_type": "code",
   "execution_count": 17,
   "metadata": {},
   "outputs": [
    {
     "data": {
      "text/plain": [
       "0.17029951284538938"
      ]
     },
     "execution_count": 17,
     "metadata": {},
     "output_type": "execute_result"
    }
   ],
   "source": [
    "#create nested list of LinearRegression objects that predict deliveries value\n",
    "min_year = 2001\n",
    "regs = []\n",
    "score = 0\n",
    "for i in range(len(regions)):\n",
    "    regs.append([])\n",
    "    for month in range(12):\n",
    "        valid_data = all_vars_by_month[i][month].loc[lambda x: x.index.year >= min_year].loc[lambda x: x.value != 0]\n",
    "        x = valid_data[['value_temp', 'value_rain']].values\n",
    "        y = valid_data['value']\n",
    "        regs[i].append(LinearRegression().fit(x, y))\n",
    "        \n",
    "        score += regs[i][month].score(x,y)\n",
    "score / (len(regions) * 12)"
   ]
  },
  {
   "cell_type": "code",
   "execution_count": 18,
   "metadata": {},
   "outputs": [
    {
     "data": {
      "text/plain": [
       "0.13378539402631287"
      ]
     },
     "execution_count": 18,
     "metadata": {},
     "output_type": "execute_result"
    }
   ],
   "source": [
    "#create nested list of LinearRegression objects that predict prices value\n",
    "regs_price = []\n",
    "score = 0\n",
    "for i in range(len(regions)):\n",
    "    regs_price.append([])\n",
    "    for month in range(12):\n",
    "        valid_data = all_vars_by_month[i][month].loc[lambda x: x.index.year >= min_year].loc[lambda x: x.value_price.notna()].loc[lambda x: x.value_price != 0]\n",
    "        x = valid_data[['value_temp', 'value_rain']].values\n",
    "        y = valid_data['value_price']\n",
    "        regs_price[i].append(LinearRegression().fit(x, y))\n",
    "        score += regs_price[i][month].score(x,y)\n",
    "score / (len(regions) * 12)"
   ]
  },
  {
   "cell_type": "code",
   "execution_count": 19,
   "metadata": {},
   "outputs": [
    {
     "name": "stdout",
     "output_type": "stream",
     "text": [
      "[16.48163832069794, 2.3683541448946794]\n",
      "-1985.0233979432705\n"
     ]
    },
    {
     "data": {
      "image/png": "[encoded data removed]",
      "text/plain": [
       "<Figure size 432x288 with 1 Axes>"
      ]
     },
     "metadata": {
      "needs_background": "light"
     },
     "output_type": "display_data"
    }
   ],
   "source": [
    "i=6\n",
    "plt.scatter(all_vars_by_month[1][i].loc[lambda x: x.index.year >= min_year]['value_temp'], all_vars_by_month[1][i].loc[lambda x: x.index.year >= min_year]['value'])\n",
    "\n",
    "test_temp = temp_by_region[1].loc[lambda x: x.index.year >= 2019]['value'][i]\n",
    "test_rain = rain_by_region[1].loc[lambda x: x.index.year >= 2019]['value'][i]\n",
    "x_test = [[15, test_rain], [20, test_rain], [test_temp,test_rain]]\n",
    "y_test = regs[1][i].predict(x_test)\n",
    "plt.plot([15,20,test_temp], y_test)\n",
    "print(x_test[2])\n",
    "print(y_test[2])"
   ]
  },
  {
   "cell_type": "code",
   "execution_count": 20,
   "metadata": {},
   "outputs": [
    {
     "name": "stdout",
     "output_type": "stream",
     "text": [
      "[16.48163832069794, 2.3683541448946794]\n",
      "-1985.0233979432705\n"
     ]
    },
    {
     "data": {
      "image/png": "[encoded data removed]",
      "text/plain": [
       "<Figure size 432x288 with 1 Axes>"
      ]
     },
     "metadata": {
      "needs_background": "light"
     },
     "output_type": "display_data"
    }
   ],
   "source": [
    "plt.scatter(all_vars_by_month[1][i].loc[lambda x: x.index.year >= min_year]['value_rain'], all_vars_by_month[1][i].loc[lambda x: x.index.year >= min_year]['value'])\n",
    "\n",
    "x_test = [[test_temp, 0.6], [test_temp, 1.8], [test_temp,test_rain]]\n",
    "y_test = regs[1][i].predict(x_test)\n",
    "plt.plot([0.6,1.8,test_rain], y_test)\n",
    "print(x_test[2])\n",
    "print(y_test[2])"
   ]
  },
  {
   "cell_type": "code",
   "execution_count": 21,
   "metadata": {},
   "outputs": [],
   "source": [
    "#uses nested list of LinearRegression objects to create nested list of predictions for 2019 deliveries\n",
    "preds = []\n",
    "pred_year = 2019\n",
    "for i in range(len(regions)):\n",
    "    preds.append([])\n",
    "    for month in range(12):\n",
    "        temp_min = all_vars_by_month[i][month]['value_temp'].min()\n",
    "        temp_max = all_vars_by_month[i][month]['value_temp'].max()\n",
    "        rain_min = all_vars_by_month[i][month]['value_rain'].min()\n",
    "        rain_max = all_vars_by_month[i][month]['value_rain'].max()\n",
    "        \n",
    "        temps = temp_by_region[i].loc[lambda x: x.index.year >= pred_year]['value'][month]\n",
    "        rains = rain_by_region[i].loc[lambda x: x.index.year >= pred_year]['value'][month]\n",
    "        \n",
    "        temps = min(max(temps, temp_min), temp_max)\n",
    "        rains = min(max(rains, rain_min), rain_max)\n",
    "        \n",
    "        elninos = elNino_f[lambda x: x.index.year >= pred_year]['value'][month]\n",
    "        new_x = np.array([temps, rains]).reshape(-1, 2)\n",
    "        preds[i].append(regs[i][month].predict(new_x)[0])"
   ]
  },
  {
   "cell_type": "code",
   "execution_count": 22,
   "metadata": {},
   "outputs": [],
   "source": [
    "#uses nested list of LinearRegression objects to create nested list of predictions for 2019 prices\n",
    "preds_price = []\n",
    "pred_year = 2019\n",
    "for i in range(len(regions)):\n",
    "    preds_price.append([])\n",
    "    for month in range(12):\n",
    "        temp_min = all_vars_by_month[i][month]['value_temp'].min()\n",
    "        temp_max = all_vars_by_month[i][month]['value_temp'].max()\n",
    "        rain_min = all_vars_by_month[i][month]['value_rain'].min()\n",
    "        rain_max = all_vars_by_month[i][month]['value_rain'].max()\n",
    "        \n",
    "        temps = temp_by_region[i].loc[lambda x: x.index.year >= pred_year]['value'][month]\n",
    "        rains = rain_by_region[i].loc[lambda x: x.index.year >= pred_year]['value'][month]\n",
    "        \n",
    "        temps = min(max(temps, temp_min), temp_max)\n",
    "        rains = min(max(rains, rain_min), rain_max)\n",
    "        \n",
    "        elninos = elNino_f[lambda x: x.index.year >= pred_year]['value'][month]\n",
    "        new_x = np.array([temps, rains]).reshape(-1, 2)\n",
    "        preds_price[i].append(regs_price[i][month].predict(new_x)[0])"
   ]
  },
  {
   "cell_type": "code",
   "execution_count": 23,
   "metadata": {},
   "outputs": [],
   "source": [
    "#flattens delivery predictions to 1 dimension, to be written to dataframe\n",
    "preds_1d = []\n",
    "for i in range(len(regions)):\n",
    "    for month in range(12):\n",
    "        preds_1d.append(preds[i][month])"
   ]
  },
  {
   "cell_type": "code",
   "execution_count": 24,
   "metadata": {},
   "outputs": [],
   "source": [
    "#flattens price predictions to 1 dimension, to be written to dataframe\n",
    "preds_price_1d = []\n",
    "for i in range(len(regions)):\n",
    "    for month in range(12):\n",
    "        preds_price_1d.append(preds_price[i][month])"
   ]
  },
  {
   "cell_type": "code",
   "execution_count": 25,
   "metadata": {},
   "outputs": [],
   "source": [
    "#writes predictions to dataframe\n",
    "output = result\n",
    "output['Deliveries'] = preds_1d\n",
    "output['Prices'] = preds_price_1d"
   ]
  },
  {
   "cell_type": "code",
   "execution_count": 26,
   "metadata": {},
   "outputs": [],
   "source": [
    "#exports output dataframe to csv\n",
    "output.to_csv('solution.csv', index=False)"
   ]
  }
 ],
 "metadata": {
  "kernelspec": {
   "display_name": "Python 3",
   "language": "python",
   "name": "python3"
  },
  "language_info": {
   "codemirror_mode": {
    "name": "ipython",
    "version": 3
   },
   "file_extension": ".py",
   "mimetype": "text/x-python",
   "name": "python",
   "nbconvert_exporter": "python",
   "pygments_lexer": "ipython3",
   "version": "3.6.2"
  }
 },
 "nbformat": 4,
 "nbformat_minor": 2
}

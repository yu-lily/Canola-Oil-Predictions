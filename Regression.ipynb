{
 "cells": [
  {
   "cell_type": "code",
   "execution_count": 1,
   "metadata": {},
   "outputs": [],
   "source": [
    "import pandas as pd\n",
    "import re\n",
    "import numpy as np\n",
    "import matplotlib.pyplot as plt\n",
    "from sklearn.linear_model import LinearRegression"
   ]
  },
  {
   "cell_type": "code",
   "execution_count": 2,
   "metadata": {},
   "outputs": [],
   "source": [
    "result = pd.read_csv(\"to_be_filled.csv\")\n",
    "regions = result['Region'].unique()"
   ]
  },
  {
   "cell_type": "code",
   "execution_count": 3,
   "metadata": {},
   "outputs": [],
   "source": [
    "#import data of target variables\n",
    "deliveries = pd.read_csv(\"data/1. Target Variables/Canada_Canola_Producer_Deliveries.csv\")\n",
    "prices = pd.read_csv(\"data/1. Target Variables/Canada_Canola_Producer_Prices.csv\")"
   ]
  },
  {
   "cell_type": "code",
   "execution_count": 4,
   "metadata": {},
   "outputs": [],
   "source": [
    "#import relevant weather data\n",
    "elNino = pd.read_csv(\"data/4. Spatio-Temporal & Weather Data/El_Niño_Southern_Oscillation_Index.csv\")"
   ]
  },
  {
   "cell_type": "code",
   "execution_count": 5,
   "metadata": {},
   "outputs": [],
   "source": [
    "#method for looping through to impoart and concatenate csvs\n",
    "def concatenate_csvs(path, years, start=2000):\n",
    "    dfs = []\n",
    "    for i in range(years):\n",
    "        year = start + i\n",
    "        filepath = path.format(year)\n",
    "        dfs.append(pd.read_csv(filepath))\n",
    "    return pd.concat(dfs)"
   ]
  },
  {
   "cell_type": "code",
   "execution_count": 6,
   "metadata": {},
   "outputs": [],
   "source": [
    "#concatenate rainfall CSVs\n",
    "rain_path = \"data/4. Spatio-Temporal & Weather Data/Rainfall/canada_rainfall_{}.csv\"\n",
    "rain_years = 21\n",
    "rain = concatenate_csvs(rain_path, rain_years)"
   ]
  },
  {
   "cell_type": "code",
   "execution_count": 7,
   "metadata": {},
   "outputs": [],
   "source": [
    "#concatenate soil moisture CSVs\n",
    "sm_path = \"data/4. Spatio-Temporal & Weather Data/Soil Moisture/canada_soil_moisture{}.csv\"\n",
    "sm_years = 11\n",
    "sm_start = 2010\n",
    "sm = concatenate_csvs(sm_path, sm_years, start = sm_start)"
   ]
  },
  {
   "cell_type": "code",
   "execution_count": 8,
   "metadata": {},
   "outputs": [],
   "source": [
    "#concatenate temperature moisture CSVs\n",
    "temp_path = \"data/4. Spatio-Temporal & Weather Data/Temperature/canada_temp_{}.csv\"\n",
    "temp_years = 21\n",
    "temp = concatenate_csvs(temp_path, temp_years)"
   ]
  },
  {
   "cell_type": "code",
   "execution_count": 9,
   "metadata": {},
   "outputs": [],
   "source": [
    "#format dates as YYYY-MM-DD\n",
    "if 'start' not in rain.keys():\n",
    "    rain.insert(2, 'start', pd.to_datetime(rain['start_date']))\n",
    "    rain.insert(3, 'end', pd.to_datetime(rain['end_date']))\n",
    "if 'start' not in sm.keys():\n",
    "    sm.insert(2, 'start', pd.to_datetime(sm['start_date']))\n",
    "    sm.insert(3, 'end', pd.to_datetime(sm['end_date']))\n",
    "if 'start' not in temp.keys():\n",
    "    temp.insert(2, 'start', pd.to_datetime(temp['start_date']))\n",
    "    temp.insert(3, 'end', pd.to_datetime(temp['end_date']))\n",
    "if 'start' not in elNino.keys():\n",
    "    elNino.insert(2, 'start', pd.to_datetime(elNino['Start Date']))\n",
    "    elNino.insert(3, 'end', pd.to_datetime(elNino['End Date']))"
   ]
  },
  {
   "cell_type": "code",
   "execution_count": 10,
   "metadata": {},
   "outputs": [],
   "source": [
    "#format to keep only relevant columns\n",
    "rain_f = rain[['start','end', 'value', 'region_id', 'region_name', 'province_name', 'year']]\n",
    "sm_f = sm[['start','end', 'value', 'region_id', 'region_name', 'province_name', 'year']]\n",
    "temp_f = temp[['start','end', 'value', 'region_id', 'region_name', 'province_name', 'year']]\n",
    "elNino_f = elNino[['start','end', 'Value']].rename(str.lower, axis='columns').set_index('end')"
   ]
  },
  {
   "cell_type": "code",
   "execution_count": 11,
   "metadata": {},
   "outputs": [],
   "source": [
    "#format to keep only relevant columns\n",
    "deliveries_f = deliveries[['Region', 'Start Date', 'End Date', 'Value']].rename(str.lower, axis='columns')\n",
    "prices_f = prices[['Region', 'Start Date', 'End Date', 'Value']].rename(str.lower, axis='columns')"
   ]
  },
  {
   "cell_type": "code",
   "execution_count": 12,
   "metadata": {},
   "outputs": [],
   "source": [
    "#split each dataframein lists of dataframes, with one dataframe per region\n",
    "prices_by_region = []\n",
    "deliveries_by_region = []\n",
    "rain_by_region = []\n",
    "sm_by_region = []\n",
    "temp_by_region = []\n",
    "for region in regions:\n",
    "    prices_by_region.append(prices_f[prices_f.region == region].set_index('end date'))\n",
    "    deliveries_by_region.append(deliveries_f[deliveries_f.region == region].set_index('end date'))\n",
    "    rain_by_region.append(rain_f[rain_f.province_name == region].groupby(pd.Grouper(freq = 'M', key = 'end')).mean())\n",
    "    sm_by_region.append(sm_f[sm_f.province_name == region].groupby(pd.Grouper(freq = 'M', key = 'end')).mean())\n",
    "    temp_by_region.append(temp_f[temp_f.province_name == region].groupby(pd.Grouper(freq = 'M', key = 'end')).mean())"
   ]
  },
  {
   "cell_type": "code",
   "execution_count": 13,
   "metadata": {},
   "outputs": [],
   "source": [
    "deliveries_with_vars = []\n",
    "\n",
    "for i in range(len(regions)):\n",
    "    #rain_by_region[i] = rain_by_region[i].groupby(pd.Grouper(freq = 'M', key = 'end')).mean()\n",
    "    with_rain = deliveries_by_region[i].join(rain_by_region[i], rsuffix= '_rain')\n",
    "    with_sm = with_rain.join(sm_by_region[i], rsuffix='_sm')\n",
    "    with_temp = with_sm.join(temp_by_region[i], rsuffix='_temp')\n",
    "    with_elnino = with_temp.join(elNino_f, rsuffix='_elnino')\n",
    "    with_prices = with_elnino.join(prices_by_region[i], rsuffix='_price')\n",
    "    deliveries_with_vars.append(with_prices)\n",
    "    #print(len(deliveries_by_region[i]))\n",
    "    #print(len(rain_by_region[i]))"
   ]
  },
  {
   "cell_type": "code",
   "execution_count": 14,
   "metadata": {},
   "outputs": [
    {
     "data": {
      "text/plain": [
       "{'Alberta': 0,\n",
       " 'British Columbia': 1,\n",
       " 'Manitoba': 2,\n",
       " 'Ontario': 3,\n",
       " 'Québec': 4,\n",
       " 'Saskatchewan': 5}"
      ]
     },
     "execution_count": 14,
     "metadata": {},
     "output_type": "execute_result"
    }
   ],
   "source": [
    "#create dict that maps regions onto indicies\n",
    "regions_dict = {}\n",
    "ct = 0\n",
    "for region in regions:\n",
    "    regions_dict[region] = ct\n",
    "    ct += 1\n",
    "regions_dict"
   ]
  },
  {
   "cell_type": "code",
   "execution_count": 15,
   "metadata": {},
   "outputs": [],
   "source": [
    "#split into list divided by region of sublists of dataframes divided by month\n",
    "#format is: deliveries_with_vars_by_month[Region][Month, indexed from 0]\n",
    "deliveries_with_vars_by_month = []\n",
    "months = range(1, 13)\n",
    "for i in range(len(regions)):\n",
    "    deliveries_with_vars_by_month.append([])\n",
    "    for month in months:\n",
    "        deliveries_with_vars_by_month[i].append(deliveries_with_vars[i].loc[lambda x: x.index.month == month])"
   ]
  },
  {
   "cell_type": "code",
   "execution_count": 16,
   "metadata": {},
   "outputs": [
    {
     "data": {
      "image/png": "[encoded data removed]",
      "text/plain": [
       "<Figure size 432x288 with 1 Axes>"
      ]
     },
     "metadata": {
      "needs_background": "light"
     },
     "output_type": "display_data"
    }
   ],
   "source": [
    "#ALL TEMP DATA IN JANUARY\n",
    "for i in range(len(regions)):\n",
    "    plt.scatter(deliveries_with_vars_by_month[i][0]['value_rain'], deliveries_with_vars_by_month[i][0]['value_price'])"
   ]
  },
  {
   "cell_type": "code",
   "execution_count": 51,
   "metadata": {},
   "outputs": [
    {
     "data": {
      "text/plain": [
       "0.17029951284538936"
      ]
     },
     "execution_count": 51,
     "metadata": {},
     "output_type": "execute_result"
    }
   ],
   "source": [
    "#create nested list of LinearRegression objects\n",
    "min_year = 2001\n",
    "regs = []\n",
    "score = 0\n",
    "for i in range(len(regions)):\n",
    "    regs.append([])\n",
    "    for month in range(12):\n",
    "        valid_data = deliveries_with_vars_by_month[i][month].loc[lambda x: x.index.year >= min_year].loc[lambda x: x.value != 0]\n",
    "        x = valid_data[['value_temp', 'value_rain']].values\n",
    "        y = valid_data['value']\n",
    "        regs[i].append(LinearRegression().fit(x, y))\n",
    "        \n",
    "        score += regs[i][month].score(x,y)\n",
    "score / (len(regions) * 12)"
   ]
  },
  {
   "cell_type": "code",
   "execution_count": 52,
   "metadata": {},
   "outputs": [
    {
     "data": {
      "text/plain": [
       "0.13378539402631287"
      ]
     },
     "execution_count": 52,
     "metadata": {},
     "output_type": "execute_result"
    }
   ],
   "source": [
    "#create nested list of LinearRegression objects\n",
    "regs_price = []\n",
    "score = 0\n",
    "for i in range(len(regions)):\n",
    "    regs_price.append([])\n",
    "    for month in range(12):\n",
    "        valid_data = deliveries_with_vars_by_month[i][month].loc[lambda x: x.index.year >= min_year].loc[lambda x: x.value_price.notna()].loc[lambda x: x.value_price != 0]\n",
    "        x = valid_data[['value_temp', 'value_rain']].values\n",
    "        y = valid_data['value_price']\n",
    "        regs_price[i].append(LinearRegression().fit(x, y))\n",
    "        score += regs_price[i][month].score(x,y)\n",
    "score / (len(regions) * 12)"
   ]
  },
  {
   "cell_type": "code",
   "execution_count": 53,
   "metadata": {},
   "outputs": [
    {
     "name": "stdout",
     "output_type": "stream",
     "text": [
      "[16.48163832069794, 2.3683541448946794]\n",
      "-1985.0233979432705\n"
     ]
    },
    {
     "data": {
      "image/png": "[encoded data removed]",
      "text/plain": [
       "<Figure size 432x288 with 1 Axes>"
      ]
     },
     "metadata": {
      "needs_background": "light"
     },
     "output_type": "display_data"
    }
   ],
   "source": [
    "i=6\n",
    "plt.scatter(deliveries_with_vars_by_month[1][i].loc[lambda x: x.index.year >= min_year]['value_temp'], deliveries_with_vars_by_month[1][i].loc[lambda x: x.index.year >= min_year]['value'])\n",
    "\n",
    "test_temp = temp_by_region[1].loc[lambda x: x.index.year >= 2019]['value'][i]\n",
    "test_rain = rain_by_region[1].loc[lambda x: x.index.year >= 2019]['value'][i]\n",
    "x_test = [[15, test_rain], [20, test_rain], [test_temp,test_rain]]\n",
    "y_test = regs[1][i].predict(x_test)\n",
    "plt.plot([15,20,test_temp], y_test)\n",
    "print(x_test[2])\n",
    "print(y_test[2])"
   ]
  },
  {
   "cell_type": "code",
   "execution_count": 54,
   "metadata": {},
   "outputs": [
    {
     "name": "stdout",
     "output_type": "stream",
     "text": [
      "[16.48163832069794, 2.3683541448946794]\n",
      "-1985.0233979432705\n"
     ]
    },
    {
     "data": {
      "image/png": "[encoded data removed]",
      "text/plain": [
       "<Figure size 432x288 with 1 Axes>"
      ]
     },
     "metadata": {
      "needs_background": "light"
     },
     "output_type": "display_data"
    }
   ],
   "source": [
    "plt.scatter(deliveries_with_vars_by_month[1][i].loc[lambda x: x.index.year >= min_year]['value_rain'], deliveries_with_vars_by_month[1][i].loc[lambda x: x.index.year >= min_year]['value'])\n",
    "\n",
    "x_test = [[test_temp, 0.6], [test_temp, 1.8], [test_temp,test_rain]]\n",
    "y_test = regs[1][i].predict(x_test)\n",
    "plt.plot([0.6,1.8,test_rain], y_test)\n",
    "print(x_test[2])\n",
    "print(y_test[2])"
   ]
  },
  {
   "cell_type": "code",
   "execution_count": 55,
   "metadata": {},
   "outputs": [],
   "source": [
    "preds = []\n",
    "pred_year = 2019\n",
    "for i in range(len(regions)):\n",
    "    preds.append([])\n",
    "    for month in range(12):\n",
    "        temp_min = deliveries_with_vars_by_month[i][month]['value_temp'].min()\n",
    "        temp_max = deliveries_with_vars_by_month[i][month]['value_temp'].max()\n",
    "        rain_min = deliveries_with_vars_by_month[i][month]['value_rain'].min()\n",
    "        rain_max = deliveries_with_vars_by_month[i][month]['value_rain'].max()\n",
    "        \n",
    "        temps = temp_by_region[i].loc[lambda x: x.index.year >= pred_year]['value'][month]\n",
    "        rains = rain_by_region[i].loc[lambda x: x.index.year >= pred_year]['value'][month]\n",
    "        \n",
    "        temps = min(max(temps, temp_min), temp_max)\n",
    "        rains = min(max(rains, rain_min), rain_max)\n",
    "        \n",
    "        elninos = elNino_f[lambda x: x.index.year >= pred_year]['value'][month]\n",
    "        new_x = np.array([temps, rains]).reshape(-1, 2)\n",
    "        preds[i].append(regs[i][month].predict(new_x)[0])"
   ]
  },
  {
   "cell_type": "code",
   "execution_count": 56,
   "metadata": {},
   "outputs": [],
   "source": [
    "preds_price = []\n",
    "pred_year = 2019\n",
    "for i in range(len(regions)):\n",
    "    preds_price.append([])\n",
    "    for month in range(12):\n",
    "        temp_min = deliveries_with_vars_by_month[i][month]['value_temp'].min()\n",
    "        temp_max = deliveries_with_vars_by_month[i][month]['value_temp'].max()\n",
    "        rain_min = deliveries_with_vars_by_month[i][month]['value_rain'].min()\n",
    "        rain_max = deliveries_with_vars_by_month[i][month]['value_rain'].max()\n",
    "        \n",
    "        temps = temp_by_region[i].loc[lambda x: x.index.year >= pred_year]['value'][month]\n",
    "        rains = rain_by_region[i].loc[lambda x: x.index.year >= pred_year]['value'][month]\n",
    "        \n",
    "        temps = min(max(temps, temp_min), temp_max)\n",
    "        rains = min(max(rains, rain_min), rain_max)\n",
    "        \n",
    "        elninos = elNino_f[lambda x: x.index.year >= pred_year]['value'][month]\n",
    "        new_x = np.array([temps, rains]).reshape(-1, 2)\n",
    "        preds_price[i].append(regs_price[i][month].predict(new_x)[0])"
   ]
  },
  {
   "cell_type": "code",
   "execution_count": 57,
   "metadata": {},
   "outputs": [],
   "source": [
    "preds_1d = []\n",
    "for i in range(len(regions)):\n",
    "    for month in range(12):\n",
    "        preds_1d.append(preds[i][month])"
   ]
  },
  {
   "cell_type": "code",
   "execution_count": 58,
   "metadata": {},
   "outputs": [],
   "source": [
    "preds_price_1d = []\n",
    "for i in range(len(regions)):\n",
    "    for month in range(12):\n",
    "        preds_price_1d.append(preds_price[i][month])"
   ]
  },
  {
   "cell_type": "code",
   "execution_count": 59,
   "metadata": {},
   "outputs": [],
   "source": [
    "output_path = \"to_be_filled.csv\"\n",
    "output = pd.read_csv(output_path)\n",
    "output['Deliveries'] = preds_1d\n",
    "output['Prices'] = preds_price_1d"
   ]
  },
  {
   "cell_type": "code",
   "execution_count": 60,
   "metadata": {},
   "outputs": [],
   "source": [
    "example_path = \"example solution/solution.csv\"\n",
    "example = pd.read_csv(example_path)\n",
    "output['Prices'] = example['Prices']"
   ]
  },
  {
   "cell_type": "code",
   "execution_count": 61,
   "metadata": {},
   "outputs": [],
   "source": [
    "output.to_csv('solution.csv', index=False)"
   ]
  }
 ],
 "metadata": {
  "kernelspec": {
   "display_name": "Python 3",
   "language": "python",
   "name": "python3"
  },
  "language_info": {
   "codemirror_mode": {
    "name": "ipython",
    "version": 3
   },
   "file_extension": ".py",
   "mimetype": "text/x-python",
   "name": "python",
   "nbconvert_exporter": "python",
   "pygments_lexer": "ipython3",
   "version": "3.6.7"
  }
 },
 "nbformat": 4,
 "nbformat_minor": 2
}
